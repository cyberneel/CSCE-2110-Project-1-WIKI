{
  "nbformat": 4,
  "nbformat_minor": 0,
  "metadata": {
    "colab": {
      "provenance": [],
      "authorship_tag": "ABX9TyMKPhYK/QB9mJVwMx4Sb5uT",
      "include_colab_link": true
    },
    "kernelspec": {
      "name": "python3",
      "display_name": "Python 3"
    },
    "language_info": {
      "name": "python"
    }
  },
  "cells": [
    {
      "cell_type": "markdown",
      "metadata": {
        "id": "view-in-github",
        "colab_type": "text"
      },
      "source": [
        "<a href=\"https://colab.research.google.com/github/cyberneel/CSCE-2110-Project-1-WIKI/blob/main/DTE.ipynb\" target=\"_parent\"><img src=\"https://colab.research.google.com/assets/colab-badge.svg\" alt=\"Open In Colab\"/></a>"
      ]
    },
    {
      "cell_type": "markdown",
      "source": [
        "# Design Text Extractor (DTE)\n",
        "\n",
        "**What is it:** This notebook is a projecct to get the specs for machines from their designs easier."
      ],
      "metadata": {
        "id": "jjuYG5pZ21QY"
      }
    },
    {
      "cell_type": "code",
      "execution_count": null,
      "metadata": {
        "id": "SK-WvLKo2tfr"
      },
      "outputs": [],
      "source": [
        "# Installing ppytorch & its dependencies\n",
        "!pip install torch torchaudio torchvision torchtext torchdata"
      ]
    },
    {
      "cell_type": "code",
      "source": [
        "# Installing EasyOCR (for text extracting)\n",
        "!pip install easyocr"
      ],
      "metadata": {
        "id": "J8fg-sQO3faa"
      },
      "execution_count": null,
      "outputs": []
    },
    {
      "cell_type": "code",
      "source": [
        "# Dependency Imports\n",
        "import cv2\n",
        "import easyocr\n",
        "from matplotlib import pyplot as plt\n",
        "import numpy as np"
      ],
      "metadata": {
        "id": "-4uC_rC04Ycc"
      },
      "execution_count": 4,
      "outputs": []
    },
    {
      "cell_type": "code",
      "source": [
        "# Set the iage path with this variable"
      ],
      "metadata": {
        "id": "WHt-2w7Y6Bfs"
      },
      "execution_count": 5,
      "outputs": []
    },
    {
      "cell_type": "code",
      "source": [
        "IMAGE_PATH = (\"/IMG_0228.jpeg\")"
      ],
      "metadata": {
        "id": "K9fKEgQG8iZU"
      },
      "execution_count": 6,
      "outputs": []
    },
    {
      "cell_type": "code",
      "source": [
        "ocr = easyocr.Reader(['en'], gpu=True)"
      ],
      "metadata": {
        "colab": {
          "base_uri": "https://localhost:8080/"
        },
        "id": "_rYs3Wr39KPi",
        "outputId": "19fedec6-1d50-49d8-9f5d-5e8962e89df8"
      },
      "execution_count": 7,
      "outputs": [
        {
          "output_type": "stream",
          "name": "stderr",
          "text": [
            "WARNING:easyocr.easyocr:Neither CUDA nor MPS are available - defaulting to CPU. Note: This module is much faster with a GPU.\n",
            "WARNING:easyocr.easyocr:Downloading detection model, please wait. This may take several minutes depending upon your network connection.\n"
          ]
        },
        {
          "output_type": "stream",
          "name": "stdout",
          "text": [
            "Progress: |██████████████████████████████████████████████████| 100.0% Complete"
          ]
        },
        {
          "output_type": "stream",
          "name": "stderr",
          "text": [
            "WARNING:easyocr.easyocr:Downloading recognition model, please wait. This may take several minutes depending upon your network connection.\n"
          ]
        },
        {
          "output_type": "stream",
          "name": "stdout",
          "text": [
            "Progress: |██████████████████████████████████████████████████| 100.0% Complete"
          ]
        }
      ]
    },
    {
      "cell_type": "code",
      "source": [
        "# Run the basic detection\n",
        "result = ocr.readtext(IMAGE_PATH)\n",
        "result"
      ],
      "metadata": {
        "colab": {
          "base_uri": "https://localhost:8080/"
        },
        "id": "s4lnx7j9-Dpm",
        "outputId": "597cb907-d3d5-48ed-e9e5-28ad496ccb08"
      },
      "execution_count": 8,
      "outputs": [
        {
          "output_type": "execute_result",
          "data": {
            "text/plain": [
              "[([[441, 159], [1484, 159], [1484, 401], [441, 401]],\n",
              "  'Wednesday 6/6',\n",
              "  0.7437973360227632),\n",
              " ([[1492, 304], [1622, 304], [1622, 394], [1492, 394]],\n",
              "  '6',\n",
              "  0.027676296041239334),\n",
              " ([[431, 334], [2572, 334], [2572, 695], [431, 695]],\n",
              "  'Being Unique-How Do',\n",
              "  0.8657984608299983),\n",
              " ([[2971, 517], [3386, 517], [3386, 717], [2971, 717]],\n",
              "  'Do I',\n",
              "  0.9203122476616767),\n",
              " ([[433, 577], [1501, 577], [1501, 829], [433, 829]],\n",
              "  \"'Create the\",\n",
              "  0.9996736592492171),\n",
              " ([[2325, 700], [2989, 700], [2989, 909], [2325, 909]],\n",
              "  'T-chart',\n",
              "  0.9989564291715497),\n",
              " ([[919, 921], [1106, 921], [1106, 1011], [919, 1011]],\n",
              "  'Mort]',\n",
              "  0.1558474163174379),\n",
              " ([[1078, 923], [1740, 923], [1740, 1059], [1078, 1059]],\n",
              "  'Important /impactiul .',\n",
              "  0.1171026663240255),\n",
              " ([[1003, 1003], [1847, 1003], [1847, 1138], [1003, 1138]],\n",
              "  'that hava hopoonod to Yov',\n",
              "  0.02354166056416431),\n",
              " ([[2188, 987], [3164, 987], [3164, 1126], [2188, 1126]],\n",
              "  'Yowr most Important oplnlonc',\n",
              "  0.0933509771036727),\n",
              " ([[1169, 1123], [1678, 1123], [1678, 1232], [1169, 1232]],\n",
              "  \"Parents' OMvorce\",\n",
              "  0.3796082711827814),\n",
              " ([[2126, 1077], [3238, 1077], [3238, 1211], [2126, 1211]],\n",
              "  'perspectives about Deopia/woranio',\n",
              "  0.054447255721904765),\n",
              " ([[1163, 1197], [1687, 1197], [1687, 1314], [1163, 1314]],\n",
              "  'Coming to TAMS',\n",
              "  0.8504074314977601),\n",
              " ([[1022, 1281], [1362, 1281], [1362, 1378], [1022, 1378]],\n",
              "  'Death ol 8',\n",
              "  0.28580858918657925),\n",
              " ([[1550, 1311], [1835, 1311], [1835, 1401], [1550, 1401]],\n",
              "  'Merber',\n",
              "  0.7236392444041441),\n",
              " ([[953, 1349], [1908, 1349], [1908, 1501], [953, 1501]],\n",
              "  'Movingto J new tatelcountry',\n",
              "  0.08216073729278311),\n",
              " ([[1023, 1442], [1839, 1442], [1839, 1569], [1023, 1569]],\n",
              "  'Death or (ness 6/ 5 frlend',\n",
              "  0.24582508257050026),\n",
              " ([[1038, 1525], [1849, 1525], [1849, 1657], [1038, 1657]],\n",
              "  'Misslon Trlp/charity Wort;',\n",
              "  0.36179744306560885),\n",
              " ([[23, 2801], [134, 2801], [134, 2902], [23, 2902]], '1', 0.3400652773578692),\n",
              " ([[32, 2883], [168, 2883], [168, 2984], [32, 2984]], '4', 0.9997627875828954),\n",
              " ([[1317, 2863], [1461, 2863], [1461, 3020], [1317, 3020]],\n",
              "  '6',\n",
              "  0.79897991426202),\n",
              " ([[1917, 2853], [2073, 2853], [2073, 3024], [1917, 3024]],\n",
              "  '5',\n",
              "  0.9317506274254725),\n",
              " ([[2565, 2959], [2691, 2959], [2691, 3024], [2565, 3024]],\n",
              "  '2',\n",
              "  0.6084377071500882),\n",
              " ([[3132, 2896], [3283, 2896], [3283, 3024], [3132, 3024]],\n",
              "  '8',\n",
              "  0.22046940681266225),\n",
              " ([[2606.8904408942153, 483.0293329006736],\n",
              "   [2950.019905097218, 537.6593848958959],\n",
              "   [2912.1095591057847, 713.9706670993264],\n",
              "   [2568.980094902782, 658.3406151041041]],\n",
              "  'You',\n",
              "  0.7623010873794556),\n",
              " ([[1525.0317347979505, 609.0187577871216],\n",
              "   [2334.815420741045, 710.9676917298973],\n",
              "   [2292.9682652020497, 916.9812422128784],\n",
              "   [1483.1845792589554, 815.0323082701027]],\n",
              "  'following',\n",
              "  0.9999367783408531),\n",
              " ([[1723.9076744813115, 957.0598377799342],\n",
              "   [1935.7230237480426, 984.6627346759514],\n",
              "   [1920.0923255186885, 1067.9401622200658],\n",
              "   [1708.2769762519574, 1039.3372653240488]],\n",
              "  '(tints',\n",
              "  0.07524924843638085),\n",
              " ([[1349.984863119866, 1285.0516585746873],\n",
              "   [1570.7681264141947, 1317.85904078593],\n",
              "   [1554.015136880134, 1402.9483414253127],\n",
              "   [1332.2318735858053, 1370.14095921407]],\n",
              "  'Famity',\n",
              "  0.2787063119570659),\n",
              " ([[652.7524342768963, 2810.0389484303423],\n",
              "   [801.1488921728093, 2788.21523764538],\n",
              "   [825.2475657231037, 3009.9610515696577],\n",
              "   [675.8511078271907, 3031.78476235462]],\n",
              "  '3',\n",
              "  0.3067638143737703)]"
            ]
          },
          "metadata": {},
          "execution_count": 8
        }
      ]
    },
    {
      "cell_type": "code",
      "source": [],
      "metadata": {
        "id": "cLqDInjq-IO6"
      },
      "execution_count": null,
      "outputs": []
    }
  ]
}